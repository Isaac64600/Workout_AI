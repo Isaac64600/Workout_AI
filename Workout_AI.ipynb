{
 "cells": [
  {
   "cell_type": "markdown",
   "source": [
    "# Compter les répétitions avec YOLO v8\n"
   ],
   "metadata": {
    "collapsed": false
   },
   "id": "4af606bf5cceff39"
  },
  {
   "cell_type": "markdown",
   "source": [
    "## Introduction\n",
    "\n",
    "Dans le monde du fitness et de l'entraînement personnel, le suivi des répétitions d'exercices est essentiel pour suivre les progrès, fixer des objectifs et s'assurer que la forme est correcte. Si le comptage manuel des répétitions peut s'avérer fastidieux et source d'erreurs, les techniques modernes de computer vision offrent une solution plus précise et plus pratique. Le modèle YOLOv8-Pose : YOLOv8 représente la dernière version de l'algorithme de détection d'objets You Only Look Once (YOLO), développé par Ultralytics. En plus de la détection d'objets, YOLOv8 inclut une branche dédiée à l'estimation de pose, capable de détecter 17 points clés du corps humain.  Cette capacité en fait un choix idéal pour le suivi d'exercices impliquant des mouvements et des positions spécifiques du corps. \n",
    "\n",
    "<img src=\"picture/288088210-f45d8315-b59f-47b7-b9c8-c61af1ce865b.png\" alt=\"YOLO v8 Keypoints\" width=\"600\" height=\"600\">\n",
    "\n",
    "\n",
    "\n"
   ],
   "metadata": {
    "collapsed": false
   },
   "id": "a5ba25925f359e90"
  },
  {
   "cell_type": "markdown",
   "source": [
    "## Notre approche\n",
    "L'application de comptage de répétitions que nous présentons ici utilise le modèle YOLOv8-Pose pour détecter les points clés du corps humain pendant les exercices. En identifiant ces points clés et en calculant les angles entre les lignes formées par certains points, nous pouvons déterminer quand une répétition est complétée. Par exemple, pour un squat, nous suivons l'angle entre les points de la hanche, du genou et de la cheville pour identifier le moment où l'utilisateur atteint la position la plus basse avant de revenir à la position de départ, ce qui compte comme une répétition.\n",
    "<img src=\"picture/upload_2018-9-4_0-46-20.png\" alt=\"SQUAT Angle\" width=\"300\" height=\"400\">\n",
    "\n"
   ],
   "metadata": {
    "collapsed": false
   },
   "id": "90b24602720669db"
  },
  {
   "cell_type": "markdown",
   "source": [],
   "metadata": {
    "collapsed": false
   },
   "id": "7cb29f07ac2acab0"
  },
  {
   "cell_type": "code",
   "execution_count": 1,
   "id": "initial_id",
   "metadata": {
    "collapsed": true,
    "ExecuteTime": {
     "end_time": "2024-07-08T08:42:59.774677Z",
     "start_time": "2024-07-08T08:42:59.768913Z"
    }
   },
   "outputs": [],
   "source": [
    "from ultralytics import YOLO\n",
    "import cv2\n",
    "import numpy as np\n",
    "\n",
    "def calculate_angle(p1, p2, p3):\n",
    "   # p1, p2, p3 sont les points au format [x, y]\n",
    "    # Calculer les vecteurs\n",
    "    v1 = np.array(p1) - np.array(p2)\n",
    "    v2 = np.array(p3) - np.array(p2)\n",
    "\n",
    "    # Calculer l'angle en radians\n",
    "    angle_rad = np.arccos(np.dot(v1, v2) / (np.linalg.norm(v1) * np.linalg.norm(v2)))\n",
    "\n",
    "    # Convertir en degrés\n",
    "    angle_deg = np.degrees(angle_rad)\n",
    "\n",
    "    return angle_deg"
   ]
  },
  {
   "cell_type": "markdown",
   "source": [],
   "metadata": {
    "collapsed": false
   },
   "id": "4fdfa66b93ad3e08"
  }
 ],
 "metadata": {
  "kernelspec": {
   "display_name": "Python 3",
   "language": "python",
   "name": "python3"
  },
  "language_info": {
   "codemirror_mode": {
    "name": "ipython",
    "version": 2
   },
   "file_extension": ".py",
   "mimetype": "text/x-python",
   "name": "python",
   "nbconvert_exporter": "python",
   "pygments_lexer": "ipython2",
   "version": "2.7.6"
  }
 },
 "nbformat": 4,
 "nbformat_minor": 5
}
