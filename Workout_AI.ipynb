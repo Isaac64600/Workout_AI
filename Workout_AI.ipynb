{
 "cells": [
  {
   "cell_type": "markdown",
   "source": [
    "# Compter les répétitions avec YOLO v8\n"
   ],
   "metadata": {
    "collapsed": false
   },
   "id": "4af606bf5cceff39"
  },
  {
   "cell_type": "markdown",
   "source": [
    "## Introduction\n",
    "\n",
    "Dans le monde du fitness et de l'entraînement personnel, le suivi des répétitions d'exercices est essentiel pour suivre les progrès, fixer des objectifs et s'assurer que la forme est correcte. Si le comptage manuel des répétitions peut s'avérer fastidieux et source d'erreurs, les techniques modernes de computer vision offrent une solution plus précise et plus pratique. Le modèle YOLOv8-Pose : YOLOv8 représente la dernière version de l'algorithme de détection d'objets You Only Look Once (YOLO), développé par Ultralytics. En plus de la détection d'objets, YOLOv8 inclut une branche dédiée à l'estimation de pose, capable de détecter 17 points clés du corps humain.  Cette capacité en fait un choix idéal pour le suivi d'exercices impliquant des mouvements et des positions spécifiques du corps. \n",
    "\n",
    "<img src=\"picture/288088210-f45d8315-b59f-47b7-b9c8-c61af1ce865b.png\" alt=\"YOLO v8 Keypoints\" width=\"600\" height=\"600\">\n",
    "\n",
    "\n",
    "\n"
   ],
   "metadata": {
    "collapsed": false
   },
   "id": "a5ba25925f359e90"
  },
  {
   "cell_type": "markdown",
   "source": [
    "## Notre approche\n",
    "L'application de comptage de répétitions que nous présentons ici utilise le modèle YOLOv8-Pose pour détecter les points clés du corps humain pendant les exercices. En identifiant ces points clés et en calculant les angles entre les lignes formées par certains points, nous pouvons déterminer quand une répétition est complétée. \n",
    "Par exemple, pour un squat, nous suivons l'angle entre les points de la hanche, du genou et de la cheville pour identifier le moment où l'utilisateur atteint la position la plus basse avant de revenir à la position de départ, ce qui compte comme une répétition.\n",
    "<img src=\"picture/upload_2018-9-4_0-46-20.png\" alt=\"SQUAT Angle\" width=\"300\" height=\"400\">\n",
    "\n"
   ],
   "metadata": {
    "collapsed": false
   },
   "id": "90b24602720669db"
  },
  {
   "cell_type": "markdown",
   "source": [],
   "metadata": {
    "collapsed": false
   },
   "id": "7cb29f07ac2acab0"
  },
  {
   "cell_type": "code",
   "execution_count": 1,
   "id": "initial_id",
   "metadata": {
    "collapsed": true,
    "ExecuteTime": {
     "end_time": "2024-07-08T08:42:59.774677Z",
     "start_time": "2024-07-08T08:42:59.768913Z"
    }
   },
   "outputs": [],
   "source": [
    "from ultralytics import YOLO\n",
    "import cv2\n",
    "import numpy as np\n",
    "\n",
    "def calculate_angle(p1, p2, p3):\n",
    "   # p1, p2, p3 sont les points au format [x, y]\n",
    "    # Calculer les vecteurs\n",
    "    v1 = np.array(p1) - np.array(p2)\n",
    "    v2 = np.array(p3) - np.array(p2)\n",
    "\n",
    "    # Calculer l'angle en radians\n",
    "    angle_rad = np.arccos(np.dot(v1, v2) / (np.linalg.norm(v1) * np.linalg.norm(v2)))\n",
    "\n",
    "    # Convertir en degrés\n",
    "    angle_deg = np.degrees(angle_rad)\n",
    "\n",
    "    return angle_deg"
   ]
  },
  {
   "cell_type": "markdown",
   "source": [],
   "metadata": {
    "collapsed": false
   },
   "id": "4fdfa66b93ad3e08"
  },
  {
   "cell_type": "markdown",
   "source": [
    "Pour le choix du modèle, nous opterons pour un modèle préentraîné de YOLOv8 sur le jeu de données COCO. Ce jeu de données contient 200 000 images annotées avec des points clés, ce qui en fait une référence de choix pour les tâches d'estimation de la pose. Nous avons décidé d'utiliser un modèle préentraîné pour plusieurs raisons.\n",
    "\n",
    "Tout d'abord, le temps et les ressources nécessaires pour générer un jeu de données de cette ampleur sont considérables. La collecte et l'annotation manuelle de centaines de milliers d'images avec des points clés exigent une main-d'œuvre significative et spécialisée. De plus, la qualité des annotations doit être rigoureuse pour garantir la précision du modèle d'estimation de la pose, ce qui rend cette tâche encore plus ardue.\n",
    "\n",
    "En utilisant un modèle préentraîné sur COCO, nous bénéficions d'un ensemble de données riche et diversifié, avec des annotations de haute qualité réalisées par des experts. Cela nous permet de nous concentrer sur l'application et l'optimisation du modèle pour notre cas d'utilisation spécifique, sans avoir à passer par les étapes longues et coûteuses de création et d'annotation de données.\n",
    "\n",
    "Ainsi, cette approche nous permet de gagner du temps et des ressources, tout en nous assurant de disposer d'un modèle performant pour l'estimation de la pose, grâce à l'expertise et à la vaste quantité de données déjà disponibles dans le jeu de données COCO."
   ],
   "metadata": {
    "collapsed": false
   },
   "id": "38574d96c50dec4c"
  },
  {
   "cell_type": "code",
   "outputs": [],
   "source": [
    "model = YOLO(\"yolov8n-pose.pt\")"
   ],
   "metadata": {
    "collapsed": false
   },
   "id": "61aa26b83d021869"
  },
  {
   "cell_type": "markdown",
   "source": [
    "Ensuite, il nous faudra une fonction pour vérifier si la posture de l'exercice de squat est correcte. Pour ce faire, nous calculerons l'angle de la jambe à partir des points clés de la hanche, du genou et de la cheville. Parallèlement, nous déterminerons l'angle du corps en utilisant les points clés de l'épaule, de la hanche et du genou.\n",
    "\n",
    "Pour la position de départ, nous devons nous assurer que les angles de la jambe et du corps sont supérieurs à 160 degrés. En ce qui concerne la position finale, les angles doivent être inférieurs à 110 degrés.\n",
    "\n",
    "Pour gérer la transition entre ces deux positions, nous utiliserons un booléen appelé transition. Ce booléen nous permettra de vérifier que l'utilisateur passe correctement de la position de départ à la position finale et inversement, garantissant ainsi la complétion correcte de chaque répétition."
   ],
   "metadata": {
    "collapsed": false
   },
   "id": "78d9f5ccf6198432"
  },
  {
   "cell_type": "code",
   "outputs": [],
   "source": [
    "def check_form(keypoints, transition):\n",
    "    f = open(\"demofile0.txt\", \"a\")\n",
    "    leg_angle = calculate_angle(keypoints[0][11], keypoints[0][13], keypoints[0][15])\n",
    "    body_angle = calculate_angle(keypoints[0][5], keypoints[0][11], keypoints[0][13])\n",
    "\n",
    "\n",
    "    if leg_angle > 160 and not transition:\n",
    "        if body_angle > 160:\n",
    "            return True\n",
    "        else:\n",
    "            f.write(f\"Body Angle: {body_angle}\\n\")\n",
    "            f.close()\n",
    "            return False\n",
    "\n",
    "\n",
    "    elif leg_angle < 120 and not transition:\n",
    "        if body_angle < 110:\n",
    "            return True\n",
    "        else:\n",
    "            f.write(f\"Body Angle: {body_angle}\\n, Leg Angle: {leg_angle}\\n\")\n",
    "            f.close()\n",
    "            return False\n",
    "\n",
    "\n",
    "    elif 120 <= leg_angle <= 160 and transition:\n",
    "        if 110 <= body_angle <= 160:\n",
    "            return True\n"
   ],
   "metadata": {
    "collapsed": false,
    "ExecuteTime": {
     "end_time": "2024-07-10T14:14:28.030919Z",
     "start_time": "2024-07-10T14:14:28.018145Z"
    }
   },
   "id": "a4d5dc32f65b519f",
   "execution_count": 1
  },
  {
   "cell_type": "markdown",
   "source": [
    "Nous allons ensuite intégrer tout cela dans une boucle principale où nous appliquerons notre modèle YOLOv8 à une vidéo ou à une caméra pour détecter les points clés et les afficher. Nous utiliserons la même logique que celle utilisée dans la fonction check_form, cette fois en introduisant un booléen is_down pour déterminer si le mouvement va vers le bas ou vers le haut. Nous compterons le nombre de répétitions effectuées et mettrons également à jour notre booléen transition pour qu'il soit pris en compte par notre fonction check_form.\n",
    "\n",
    "Nous afficherons les résultats directement sur l'image et indiquerons à l'utilisateur de corriger sa posture si nécessaire. Cette approche nous permettra de suivre et d'analyser la qualité des mouvements réalisés lors de l'exercice, tout en fournissant un retour immédiat pour aider à maintenir une bonne technique."
   ],
   "metadata": {
    "collapsed": false
   },
   "id": "9971d1bea0aa9b7b"
  },
  {
   "cell_type": "code",
   "outputs": [],
   "source": [
    "squat_count = 0\n",
    "transition =False\n",
    "is_down = False\n",
    "cap = cv2.VideoCapture(\"squat.mp4\")\n",
    "# cap = cv2.VideoCapture(0)\n",
    "while(cap.isOpened()):\n",
    "    try:\n",
    "        success, frame = cap.read()\n",
    "\n",
    "        if success:\n",
    "            results = model(frame)\n",
    "            for r in results[0]:\n",
    "                keypoints = r.keypoints.xy\n",
    "                angle = calculate_angle(keypoints[0][11], keypoints[0][13], keypoints[0][15])\n",
    "                print(\"Form: \", check_form(keypoints,transition))\n",
    "                print(\"Angle: \", angle)\n",
    "                Body_angle = calculate_angle(keypoints[0][5],keypoints[0][11],keypoints[0][13])\n",
    "                print(\"Body: \", Body_angle)\n",
    "                print(transition)\n",
    "                if angle > 160 and is_down == False :\n",
    "                    is_down = True\n",
    "                elif angle > 160 and is_down == True and transition == True :\n",
    "                    transition = False\n",
    "\n",
    "                elif 120 < angle < 160 and transition == False:\n",
    "                    transition = True\n",
    "\n",
    "                elif angle < 120 and is_down == False and transition == True:\n",
    "                    transition = False\n",
    "\n",
    "                elif angle < 120 and is_down == True :\n",
    "                    is_down = False\n",
    "                    squat_count += 1\n",
    "\n",
    "                print('squat count:', squat_count)\n",
    "                form_correct = check_form(keypoints, transition)\n",
    "                if not form_correct:\n",
    "                    cv2.putText(frame, 'Correct the Posture', (800, 100), cv2.FONT_HERSHEY_PLAIN, 5, (0, 0, 255), 10)\n",
    "\n",
    "            annotated_frame = results[0].plot()\n",
    "\n",
    "            cv2.putText(annotated_frame, f'Squats: {squat_count}', (20, 70), 2, 2, (10, 10, 255), 5)\n",
    "            cv2.imshow(\"Inference\",annotated_frame)\n",
    "\n",
    "\n",
    "            if cv2.waitKey(1) & 0xFF == ord('q'):\n",
    "                break\n",
    "        else:\n",
    "            break\n",
    "    except ValueError:\n",
    "        print(\"Get into position !\")\n",
    "\n",
    "\n",
    "cap.release()\n",
    "cv2.destroyAllWindows()\n"
   ],
   "metadata": {
    "collapsed": false
   },
   "id": "2a0c0b25104b34fd"
  },
  {
   "cell_type": "markdown",
   "source": [
    "<img src=\"picture/Inference 2024-07-10 16-40-03.gif\" alt=\"SQUAT Angle\" width=\"600\" height=\"400\">\n",
    "\n",
    "Grace a la puissance de YOLOv8-Pose, nous avons développé une application de comptage d'exercices qui va au-delà de la simple mesure des répétitions. Notre approche évalue également la précision des mouvements réalisés, offrant ainsi aux utilisateurs un moyen plus engageant et efficace de suivre leurs progrès en fitness. Cette application fournit des informations précieuses et des retours en temps réel, permettant aux utilisateurs d'ajuster leur technique pour optimiser leurs performances.\n",
    "\n",
    "Actuellement démontrée avec la fonctionnalité de comptage de squats, notre application est également capable de compter les pompes et les tractions. En exploitant la nature modulaire de la base de code, nous avons facilité l'extension de cette fonctionnalité à d'autres types d'exercices. Cela nécessite simplement l'ajustement de la sélection des points clés spécifiques à chaque exercice et des seuils d'angle correspondants.\n",
    "\n",
    "Cette approche flexible et évolutive permet à notre application de répondre aux besoins variés des utilisateurs, qu'ils soient débutants cherchant à perfectionner leur technique ou athlètes confirmés souhaitant surveiller et améliorer leur performance physique de manière détaillée et précise. En intégrant la technologie de détection de pose avancée à une interface utilisateur conviviale, nous visons à encourager une pratique sportive plus informée et efficace pour tous."
   ],
   "metadata": {
    "collapsed": false
   },
   "id": "cd08124a16ce6251"
  }
 ],
 "metadata": {
  "kernelspec": {
   "display_name": "Python 3",
   "language": "python",
   "name": "python3"
  },
  "language_info": {
   "codemirror_mode": {
    "name": "ipython",
    "version": 2
   },
   "file_extension": ".py",
   "mimetype": "text/x-python",
   "name": "python",
   "nbconvert_exporter": "python",
   "pygments_lexer": "ipython2",
   "version": "2.7.6"
  }
 },
 "nbformat": 4,
 "nbformat_minor": 5
}
